{
 "cells": [
  {
   "cell_type": "code",
   "execution_count": null,
   "id": "d41fa665",
   "metadata": {},
   "outputs": [],
   "source": [
    "import torch.nn as nn\n",
    "import torch\n",
    "from torchvision.models import convnext_tiny, ConvNeXt_Tiny_Weights "
   ]
  },
  {
   "cell_type": "code",
   "execution_count": null,
   "id": "5fd71c57",
   "metadata": {},
   "outputs": [],
   "source": [
    "##################################################################################################\n",
    "class Encoder_Network2D(nn.Module):\n",
    "    def __init__(self):\n",
    "        super(Encoder_Network2D, self).__init__()\n",
    "        model=convnext_tiny(weights='IMAGENET1K_V1')\n",
    "        \n",
    "        ################ Remove the classification Layer #######################################\n",
    "        self.model=nn.Sequential(*(list(model.children())[:-1])) \n",
    "    \n",
    "    def forward(self, x):\n",
    "        ftr=torch.squeeze(self.model(x), dim=[2,3]) # 768 dimensional feature\n",
    "        return ftr\n",
    "        \n",
    "#################################################################################################"
   ]
  },
  {
   "cell_type": "code",
   "execution_count": null,
   "id": "66f68ce7",
   "metadata": {},
   "outputs": [],
   "source": [
    "##################################################################################################\n",
    "class Classification_Network(nn.Module):\n",
    "    def __init__(self):\n",
    "        super(Classification_Network, self).__init__()\n",
    "        ##### New Classification Layer\n",
    "        self.fc=nn.Linear(in_features=768, out_features=1, bias=True) \n",
    "        \n",
    "    def forward(self, ftr):\n",
    "        risk=self.fc(ftr)\n",
    "        return risk\n",
    "        \n",
    "#################################################################################################"
   ]
  },
  {
   "cell_type": "code",
   "execution_count": null,
   "id": "98965b9e",
   "metadata": {},
   "outputs": [],
   "source": [
    "class Temporal_Order_Classification(nn.Module):\n",
    "    def __init__(self):\n",
    "        super(Temporal_Order_Classification, self).__init__()\n",
    "        self.layer=nn.Linear(in_features=1, out_features=1, bias=True)\n",
    "        \n",
    "    def forward(self, r_diff):\n",
    "        out=self.layer(r_diff)\n",
    "        return out "
   ]
  }
 ],
 "metadata": {
  "kernelspec": {
   "display_name": "Python 3 (ipykernel)",
   "language": "python",
   "name": "python3"
  },
  "language_info": {
   "codemirror_mode": {
    "name": "ipython",
    "version": 3
   },
   "file_extension": ".py",
   "mimetype": "text/x-python",
   "name": "python",
   "nbconvert_exporter": "python",
   "pygments_lexer": "ipython3",
   "version": "3.8.16"
  }
 },
 "nbformat": 4,
 "nbformat_minor": 5
}
